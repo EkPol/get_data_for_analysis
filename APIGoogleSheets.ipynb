{
 "cells": [
  {
   "cell_type": "markdown",
   "metadata": {},
   "source": [
    "## API google sheets"
   ]
  },
  {
   "cell_type": "code",
   "execution_count": 28,
   "metadata": {},
   "outputs": [],
   "source": [
    "import gspread\n",
    "from gspread_dataframe import set_with_dataframe"
   ]
  },
  {
   "cell_type": "code",
   "execution_count": 36,
   "metadata": {},
   "outputs": [],
   "source": [
    "def google_sheets(GOOGLE_SHEET: str, filename_key: str, dataframe, sheet: int, row_sheet: int, column_sheet: int):\n",
    "    \"\"\"\n",
    "    Функция вставляет dataframe в гугл таблицу с ключом MOUNTHLY_REPORT_SH.\n",
    "    Вставка происхдит на страницу sheet, строку с номером - row_sheet, колонку - column_sheet.\n",
    "    \"\"\"\n",
    "\n",
    "    # предоставление доступа:\n",
    "    # ключ от сервисного аккаунта гугл для подключения к гугл таблице\n",
    "    gc = gspread.service_account(filename=filename_key)\n",
    "\n",
    "    sh = gc.open_by_key(GOOGLE_SHEET)  # открытие гугл таблицы по ключу\n",
    "    # -> 0 - первый лист, 1 - второй лист etc.\n",
    "    worksheet = sh.worksheet(sheet)\n",
    "\n",
    "    # добавление данных на лист\n",
    "    set_with_dataframe(worksheet, dataframe, row=row_sheet, col=column_sheet,\n",
    "                       include_index=False, include_column_header=False)  # загружаем датафрейм в гугл таблицу           \n",
    "    return\n"
   ]
  }
 ],
 "metadata": {
  "kernelspec": {
   "display_name": "Python 3.10.4 64-bit",
   "language": "python",
   "name": "python3"
  },
  "language_info": {
   "codemirror_mode": {
    "name": "ipython",
    "version": 3
   },
   "file_extension": ".py",
   "mimetype": "text/x-python",
   "name": "python",
   "nbconvert_exporter": "python",
   "pygments_lexer": "ipython3",
   "version": "3.10.6"
  },
  "orig_nbformat": 4,
  "vscode": {
   "interpreter": {
    "hash": "916dbcbb3f70747c44a77c7bcd40155683ae19c65e1c03b4aa3499c5328201f1"
   }
  }
 },
 "nbformat": 4,
 "nbformat_minor": 2
}
