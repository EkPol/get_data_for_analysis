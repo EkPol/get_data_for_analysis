{
 "cells": [
  {
   "cell_type": "markdown",
   "id": "f89d888b",
   "metadata": {},
   "source": [
    "## Выгрузка данных через api devtodev\n",
    "\n",
    "Документация - https://docs.devtodev.com/integration/server-api/raw-export"
   ]
  },
  {
   "cell_type": "code",
   "execution_count": 1,
   "id": "0c9c9790",
   "metadata": {},
   "outputs": [],
   "source": [
    "import requests\n",
    "import datetime as dt\n",
    "import time\n",
    "import tempfile, os, zipfile\n",
    "import pandas as pd\n",
    "\n",
    "import os\n",
    "from dotenv import load_dotenv"
   ]
  },
  {
   "cell_type": "code",
   "execution_count": 2,
   "id": "22916020",
   "metadata": {},
   "outputs": [],
   "source": [
    "def raw_data(name, start, end, app_id):\n",
    "    '''\n",
    "    Выгрузка данных из devtodev\n",
    "\n",
    "    name - название таблицы, которую нужно выгрузить\n",
    "    start - дата начала выгрузки в формате unix\n",
    "    end - дата конца выгрузки в формате unix\n",
    "    app_id - идентификатор приложения\n",
    "    '''\n",
    "\n",
    "    load_dotenv()\n",
    "\n",
    "    URL_DEVTODEV = os.getenv('URL_DEVTODEV')\n",
    "    USER_TOKEN = os.getenv('USER_TOKEN')\n",
    "    URL_STATUS_JOB = os.getenv('URL_STATUS_JOB')\n",
    "\n",
    "    url = URL_DEVTODEV\n",
    "\n",
    "    json_for_job = {\"user_token\": USER_TOKEN,  # It is obligatory, if it’s not sent with GET.\n",
    "                    \"app_id\": app_id,  # Obligatory. Application identificator.\n",
    "                    \"start_date\": start, # Obligatory. Unix time of export start date.\n",
    "                    \"end_date\": end, # Obligatory. Unix time of export end date.\n",
    "                    \"events\": name}\n",
    "\n",
    "    # создаем задачу\n",
    "    job = requests.post(url, json=json_for_job).json()\n",
    "\n",
    "    url_for_status_job = URL_STATUS_JOB\n",
    "\n",
    "    json_for_status_job = {\"user_token\": USER_TOKEN,\n",
    "                           \"job_id\": \"%s\" % job['data']}\n",
    "\n",
    "    status_job = {}\n",
    "\n",
    "    status_job = requests.post(\n",
    "        url_for_status_job, json=json_for_status_job).json()\n",
    "\n",
    "    # проверяем статус задачи\n",
    "    if status_job['status_code'] != 200 and status_job['status_code'] != 201:\n",
    "        return print(job)\n",
    "\n",
    "    while status_job['status_code'] == 200:\n",
    "        time.sleep(20)\n",
    "        status_job = requests.post(\n",
    "            url_for_status_job, json=json_for_status_job).json()\n",
    "\n",
    "    data_on_request = requests.get(status_job['data']['result']['url'])\n",
    "\n",
    "    # распаковываем файл с данными в папку ../Data_from_devtodev\n",
    "    file = tempfile.TemporaryFile()\n",
    "    file.write(data_on_request.content)\n",
    "    fzip = zipfile.ZipFile(file)\n",
    "    fzip.extractall('../Data_from_devtodev')\n",
    "    file.close()\n",
    "    fzip.close()\n",
    "\n",
    "    return\n"
   ]
  },
  {
   "cell_type": "code",
   "execution_count": 3,
   "id": "2ed458ba",
   "metadata": {},
   "outputs": [],
   "source": [
    "def unix_date(date,N=0):\n",
    "    '''\n",
    "    Перевод datetime в unix дату\n",
    "\n",
    "    date - дата, которую нужно перевести\n",
    "    N - количество дней, которые нужно прибавить к дате\n",
    "    '''\n",
    "    delta = dt.timedelta(days = N)\n",
    "    x = date + delta\n",
    "    unixtime = time.mktime(x.timetuple())\n",
    "\n",
    "    return unixtime"
   ]
  }
 ],
 "metadata": {
  "kernelspec": {
   "display_name": "Python 3.10.4 64-bit",
   "language": "python",
   "name": "python3"
  },
  "language_info": {
   "codemirror_mode": {
    "name": "ipython",
    "version": 3
   },
   "file_extension": ".py",
   "mimetype": "text/x-python",
   "name": "python",
   "nbconvert_exporter": "python",
   "pygments_lexer": "ipython3",
   "version": "3.10.6"
  },
  "vscode": {
   "interpreter": {
    "hash": "916dbcbb3f70747c44a77c7bcd40155683ae19c65e1c03b4aa3499c5328201f1"
   }
  }
 },
 "nbformat": 4,
 "nbformat_minor": 5
}
