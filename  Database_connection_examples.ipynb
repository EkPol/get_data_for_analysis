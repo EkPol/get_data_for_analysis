{
 "cells": [
  {
   "cell_type": "markdown",
   "id": "7a69da4c",
   "metadata": {},
   "source": [
    "## Пример подключения к базе данных разными способами"
   ]
  },
  {
   "cell_type": "markdown",
   "id": "6c07f8b2",
   "metadata": {},
   "source": [
    "Пример подключения через sqlalchemy"
   ]
  },
  {
   "cell_type": "code",
   "execution_count": null,
   "id": "347ec407",
   "metadata": {},
   "outputs": [],
   "source": [
    "import mysql.connector\n",
    "\n",
    "from sqlalchemy import create_engine\n",
    "from sqlalchemy.ext.declarative import declarative_base\n",
    "from sqlalchemy.orm import sessionmaker\n",
    "\n",
    "import os\n",
    "from dotenv import load_dotenv,find_dotenv"
   ]
  },
  {
   "cell_type": "code",
   "execution_count": null,
   "id": "3cfd8022",
   "metadata": {},
   "outputs": [],
   "source": [
    "load_dotenv(find_dotenv())\n",
    "\n",
    "MY_HOST = os.getenv('MY_HOST')\n",
    "PORT_RUS = int(os.getenv('PORT_RUS'))\n",
    "USER_NAME = os.getenv('USER_NAME')\n",
    "PASSWORD_RUS = os.getenv('PASSWORD_RUS')\n",
    "DB_RUS = os.getenv('DB_RUS')\n",
    "PRESENTATION  = os.getenv('PRESENTATION')"
   ]
  },
  {
   "cell_type": "code",
   "execution_count": null,
   "id": "5771194f",
   "metadata": {},
   "outputs": [],
   "source": [
    "cnx = {\n",
    "    'connector': 'mysql+mysqlconnector',\n",
    "    'user': USER_NAME,\n",
    "    'password': PASSWORD_RUS,\n",
    "    'port': PORT_RUS,\n",
    "    'database': DB_RUS\n",
    "}\n",
    "\n",
    "URL = '{connector}://{user}:{password}@localhost:{port}/{database}'.format(**cnx)\n",
    "engine = create_engine(URL)"
   ]
  },
  {
   "cell_type": "code",
   "execution_count": null,
   "id": "80f11a4a",
   "metadata": {},
   "outputs": [],
   "source": [
    "SessionLocal = sessionmaker(autocommit=False, autoflush=False, bind=engine)\n",
    "\n",
    "Base = declarative_base()"
   ]
  },
  {
   "cell_type": "markdown",
   "id": "10825cde",
   "metadata": {},
   "source": [
    "Пример подключения через pymysql и pandas"
   ]
  },
  {
   "cell_type": "code",
   "execution_count": null,
   "id": "bc7c63c7",
   "metadata": {},
   "outputs": [],
   "source": [
    "import pandas as pd\n",
    "import pymysql"
   ]
  },
  {
   "cell_type": "code",
   "execution_count": null,
   "id": "adc09bc9",
   "metadata": {},
   "outputs": [],
   "source": [
    "cnx = {\n",
    "    'connector': 'mysql+mysqlconnector',\n",
    "    'user': USER_NAME,\n",
    "    'password': PASSWORD_RUS,\n",
    "    'port': PORT_RUS,\n",
    "    'database': DB_RUS\n",
    "}\n",
    "\n",
    "URL = '{connector}://{user}:{password}@localhost:{port}/{database}'.format(**cnx)"
   ]
  },
  {
   "cell_type": "code",
   "execution_count": null,
   "id": "503b5776",
   "metadata": {},
   "outputs": [],
   "source": [
    "sql = \"SELECT * from PlayerHistory limit 1\"\n",
    "Test = pd.read_sql(sql, URL)"
   ]
  },
  {
   "cell_type": "markdown",
   "id": "2efaf82e",
   "metadata": {},
   "source": [
    "пример запуска через pymysql и cursor"
   ]
  },
  {
   "cell_type": "code",
   "execution_count": null,
   "id": "974b4007",
   "metadata": {},
   "outputs": [],
   "source": [
    "import pymysql"
   ]
  },
  {
   "cell_type": "code",
   "execution_count": null,
   "id": "d21ed128",
   "metadata": {},
   "outputs": [],
   "source": [
    "mysql_connection_rus = pymysql.connect(host=MY_HOST,\n",
    "                                       port=PORT_RUS,\n",
    "                                       user=USER_NAME,\n",
    "                                       password=PASSWORD_RUS,\n",
    "                                       db=DB_RUS,\n",
    "                                       charset='utf8',\n",
    "                                       cursorclass=pymysql.cursors.DictCursor)"
   ]
  },
  {
   "cell_type": "code",
   "execution_count": null,
   "id": "928e70f4",
   "metadata": {},
   "outputs": [],
   "source": [
    "with mysql_connection_rus:\n",
    "    with mysql_connection_rus.cursor() as cursor:\n",
    "        sql = \"SELECT * from PlayerHistory limit 1\"\n",
    "        cursor.execute(sql)\n",
    "        result = cursor.fetchone()\n",
    "        print(result)"
   ]
  }
 ],
 "metadata": {
  "kernelspec": {
   "display_name": "Python 3.10.4 64-bit",
   "language": "python",
   "name": "python3"
  },
  "language_info": {
   "codemirror_mode": {
    "name": "ipython",
    "version": 3
   },
   "file_extension": ".py",
   "mimetype": "text/x-python",
   "name": "python",
   "nbconvert_exporter": "python",
   "pygments_lexer": "ipython3",
   "version": "3.10.6"
  },
  "vscode": {
   "interpreter": {
    "hash": "916dbcbb3f70747c44a77c7bcd40155683ae19c65e1c03b4aa3499c5328201f1"
   }
  }
 },
 "nbformat": 4,
 "nbformat_minor": 5
}
