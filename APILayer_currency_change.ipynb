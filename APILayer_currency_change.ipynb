{
 "cells": [
  {
   "cell_type": "markdown",
   "metadata": {},
   "source": [
    "## APILayer\n",
    "\n",
    "Чтобы перевести платежи из валюты страны в доллары США используется функция currency_change, которая полачает данные по курсу валют из APILayer"
   ]
  },
  {
   "cell_type": "code",
   "execution_count": 1,
   "metadata": {},
   "outputs": [],
   "source": [
    "import requests\n",
    "import pandas as pd\n",
    "import datetime as dt\n",
    "import json\n",
    "import os\n",
    "from dotenv import load_dotenv,find_dotenv"
   ]
  },
  {
   "cell_type": "code",
   "execution_count": 2,
   "metadata": {},
   "outputs": [],
   "source": [
    "load_dotenv(dotenv_path='Overmobile/.env')\n",
    "\n",
    "API_KEY_LAYER = os.getenv('API_KEY_LAYER')"
   ]
  },
  {
   "cell_type": "code",
   "execution_count": 3,
   "metadata": {},
   "outputs": [],
   "source": [
    "def currency_change(start_date: dt.datetime, end_date: dt.datetime, payments: pd.DataFrame):\n",
    "    \"\"\"\n",
    "    Функция принимает на вход:\n",
    "    start_date - дата начала выгрузки\n",
    "    end_date - дата конца выгрузки \n",
    "    payments - платежи в разных валютах (ВЕБ ПЛАТЕЖИ ДОЛЖНЫ БЫТЬ ПЕРЕВЕДНЫ В РУБЛИ ЗАРАНЕЕ) \n",
    "\n",
    "    На выходе получаем 3 dataframe: \n",
    "    layer_currency -  курсы валют для каждого дня из отрезка [start_date, end_date], \n",
    "    payments - платежи пользователей в долларах США для каждого дня из отрезка [start_date, end_date], \n",
    "    \"\"\"\n",
    "\n",
    "    charcode_array = ','.join(\n",
    "        [str(i) for i in payments.charcode.unique()])  # массив валют\n",
    "\n",
    "    # дата в нужном для запросе формате\n",
    "    url_start = start_date.strftime(\"%Y-%m-%d\")\n",
    "    url_end = end_date.strftime(\"%Y-%m-%d\")\n",
    "\n",
    "    # воспользуемся apilayer для выгрузки котировок валют за нужный период времени\n",
    "    url = f\"https://api.apilayer.com/fixer/timeseries?start_date={url_start}&end_date={url_end}&base=USD&symbols={charcode_array}\"\n",
    "\n",
    "    payload = {}\n",
    "    headers = {\"apikey\": API_KEY_LAYER}\n",
    "    response = requests.request(\"GET\", url, headers=headers, data=payload)\n",
    "\n",
    "    status_code = response.status_code\n",
    "    result = response.text\n",
    "    data = json.loads(result)  # прочитаем как json - получим словарь\n",
    "\n",
    "    # выберем по ключу из словаря нужные данные и запишем в df\n",
    "    layer_currency = pd.DataFrame(data['rates'])\n",
    "    layer_currency = layer_currency.stack()  # сделаем пары: валюта, день\n",
    "\n",
    "    layer_currency = pd.DataFrame(layer_currency)\n",
    "\n",
    "    # сделаем из идекса столбец два раза\n",
    "    layer_currency.reset_index(level=0, inplace=True)\n",
    "    layer_currency.reset_index(level=0, inplace=True)\n",
    "\n",
    "    # переименут столбцы \n",
    "    layer_currency = layer_currency.rename(\n",
    "        columns={'index': 'date', 'level_0': 'charcode', 0: 'value'})\n",
    "\n",
    "    layer_currency['date'] = pd.to_datetime(\n",
    "        layer_currency['date'], format=\"%Y-%m-%d\")\n",
    "\n",
    "    return layer_currency\n"
   ]
  }
 ],
 "metadata": {
  "kernelspec": {
   "display_name": "Python 3.10.4 64-bit",
   "language": "python",
   "name": "python3"
  },
  "language_info": {
   "codemirror_mode": {
    "name": "ipython",
    "version": 3
   },
   "file_extension": ".py",
   "mimetype": "text/x-python",
   "name": "python",
   "nbconvert_exporter": "python",
   "pygments_lexer": "ipython3",
   "version": "3.10.6"
  },
  "orig_nbformat": 4,
  "vscode": {
   "interpreter": {
    "hash": "916dbcbb3f70747c44a77c7bcd40155683ae19c65e1c03b4aa3499c5328201f1"
   }
  }
 },
 "nbformat": 4,
 "nbformat_minor": 2
}
