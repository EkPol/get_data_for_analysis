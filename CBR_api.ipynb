{
 "cells": [
  {
   "cell_type": "markdown",
   "id": "6ce5e159",
   "metadata": {},
   "source": [
    "## Выгрузка курса валют из Центробанка РФ"
   ]
  },
  {
   "cell_type": "code",
   "execution_count": null,
   "id": "2cb60b3f",
   "metadata": {},
   "outputs": [],
   "source": [
    "import requests\n",
    "import pandas as pd\n",
    "import datetime as dt\n",
    "from bs4 import BeautifulSoup"
   ]
  },
  {
   "cell_type": "code",
   "execution_count": null,
   "id": "9bed5f98",
   "metadata": {},
   "outputs": [],
   "source": [
    "start = dt.datetime(2022,5,9,0,0,0) # дата начала выгрузки\n",
    "end = dt.datetime(2022,5,15,23,59,59) # дата конца"
   ]
  },
  {
   "cell_type": "code",
   "execution_count": null,
   "id": "0325d24e",
   "metadata": {},
   "outputs": [],
   "source": [
    "def dauly_currency_cbr(my_date):\n",
    "    \n",
    "    my_date_url = my_date.strftime(\"%d/%m/%Y\") # изменим тип даты на строку\n",
    "    \n",
    "    url = f\"http://www.cbr.ru/scripts/XML_daily.asp?date_req={my_date_url}\"\n",
    "    html = requests.get(url)\n",
    "    soup = BeautifulSoup(html.content)\n",
    "\n",
    "    name = soup.findAll('name')\n",
    "    value = soup.findAll('value')\n",
    "    nominal = soup.findAll('nominal')\n",
    "    charcode = soup.findAll('charcode')\n",
    "\n",
    "    name_array = []\n",
    "    value_array = []\n",
    "    nominal_array = []\n",
    "    charcode_array = []\n",
    "\n",
    "    for i in range(0, len(name) - 1):\n",
    "        if not charcode[i].contents:\n",
    "            continue\n",
    "        name_array.append(name[i].contents[0])\n",
    "        value_array.append(value[i].contents[0])\n",
    "        nominal_array.append(nominal[i].contents[0])\n",
    "        charcode_array.append(charcode[i].contents[0])\n",
    "\n",
    "    Df_Currency_cbr = pd.DataFrame({'name': name_array, 'value':value_array, \n",
    "                                    'nominal':nominal_array, 'charcode':charcode_array})\n",
    "    \n",
    "    Df_Currency_cbr['value'] = [x.replace(',', '.') for x in Df_Currency_cbr['value']]\n",
    "    Df_Currency_cbr['value'] = Df_Currency_cbr['value'].astype(float)\n",
    "    Df_Currency_cbr['nominal'] = Df_Currency_cbr['nominal'].astype(float)\n",
    "    \n",
    "    Df_Currency_cbr['value'] = Df_Currency_cbr['value'] / Df_Currency_cbr['nominal']\n",
    "    \n",
    "    Df_Currency_cbr['date_payment'] = my_date\n",
    "    \n",
    "    USD = Df_Currency_cbr.query('charcode == \"USD\"').iloc[0][1]\n",
    "    \n",
    "    Df_Currency_cbr['value'] = Df_Currency_cbr['value']  / USD\n",
    "    #Df_Currency_cbr = Df_Currency_cbr.drop(['nominal','name'], axis=1)\n",
    "    \n",
    "    return Df_Currency_cbr"
   ]
  },
  {
   "cell_type": "code",
   "execution_count": null,
   "id": "5bc2b0dc",
   "metadata": {},
   "outputs": [],
   "source": [
    "df_dauly_currency = pd.DataFrame(columns=['name', 'value', 'nominal', 'charcode', 'date_payment'])\n",
    "\n",
    "res = pd.date_range(start, end)\n",
    "\n",
    "for date in res:\n",
    "    df_day = dauly_currency_cbr(date)\n",
    "    df_dauly_currency = df_dauly_currency.append(df_day)\n",
    "\n",
    "df_dauly_currency = df_dauly_currency.drop(['name','nominal'], axis=1)\n",
    "\n",
    "df_dauly_currency"
   ]
  }
 ],
 "metadata": {
  "kernelspec": {
   "display_name": "Python 3.10.4 64-bit",
   "language": "python",
   "name": "python3"
  },
  "language_info": {
   "codemirror_mode": {
    "name": "ipython",
    "version": 3
   },
   "file_extension": ".py",
   "mimetype": "text/x-python",
   "name": "python",
   "nbconvert_exporter": "python",
   "pygments_lexer": "ipython3",
   "version": "3.10.6"
  },
  "vscode": {
   "interpreter": {
    "hash": "916dbcbb3f70747c44a77c7bcd40155683ae19c65e1c03b4aa3499c5328201f1"
   }
  }
 },
 "nbformat": 4,
 "nbformat_minor": 5
}
