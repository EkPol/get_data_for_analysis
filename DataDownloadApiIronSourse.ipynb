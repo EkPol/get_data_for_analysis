{
 "cells": [
  {
   "cell_type": "markdown",
   "id": "e6687e38",
   "metadata": {},
   "source": [
    "## API IronSource"
   ]
  },
  {
   "cell_type": "code",
   "execution_count": 110,
   "id": "2d5e6eaa",
   "metadata": {},
   "outputs": [],
   "source": [
    "import requests\n",
    "import os\n",
    "from dotenv import load_dotenv\n",
    "import pandas as pd "
   ]
  },
  {
   "cell_type": "code",
   "execution_count": 111,
   "id": "a5bf1d54",
   "metadata": {},
   "outputs": [],
   "source": [
    "def ironsourceBearerAuth():\n",
    "    \n",
    "    load_dotenv()\n",
    "\n",
    "    secretkey = os.getenv('SECRETKEY_IRONSOURSE')\n",
    "    refreshToken = os.getenv('REFRESH_TOKEN_IRONSOURSE')\n",
    "    \n",
    "    url = \"https://platform.ironsrc.com/partners/publisher/auth\"\n",
    "    header = {\n",
    "        'secretkey': secretkey,\n",
    "        'refreshToken': refreshToken\n",
    "    }\n",
    "    res = requests.request(\"GET\", url = url, headers=header)\n",
    "    \n",
    "    return res.text"
   ]
  },
  {
   "cell_type": "code",
   "execution_count": 112,
   "id": "4fc6632b",
   "metadata": {},
   "outputs": [],
   "source": [
    "def getIronsourceData(startDate, endDate, key): \n",
    "\n",
    "    '''\n",
    "    startDate - дата начала выгрузки\n",
    "    endDate - дата конца\n",
    "    key - appKey\n",
    "    '''\n",
    "    \n",
    "    url = f\"https://platform.ironsrc.com/partners/publisher/mediation/applications/v6/stats?startDate={startDate}&endDate={endDate}&appKey={key}&metrics=revenue&breakdown=adUnits,country\"\n",
    "\n",
    "    auth = ironsourceBearerAuth()\n",
    "\n",
    "    headers = {\n",
    "        \"cache-control\": \"no-cache\",\n",
    "        \"Authorization\": \"Bearer \" + auth[1:-1]\n",
    "    }\n",
    "\n",
    "    res = requests.request(\"GET\", url, headers = headers)\n",
    "\n",
    "    return res.json()"
   ]
  }
 ],
 "metadata": {
  "kernelspec": {
   "display_name": "Python 3.10.4 64-bit",
   "language": "python",
   "name": "python3"
  },
  "language_info": {
   "codemirror_mode": {
    "name": "ipython",
    "version": 3
   },
   "file_extension": ".py",
   "mimetype": "text/x-python",
   "name": "python",
   "nbconvert_exporter": "python",
   "pygments_lexer": "ipython3",
   "version": "3.10.6"
  },
  "vscode": {
   "interpreter": {
    "hash": "916dbcbb3f70747c44a77c7bcd40155683ae19c65e1c03b4aa3499c5328201f1"
   }
  }
 },
 "nbformat": 4,
 "nbformat_minor": 5
}
